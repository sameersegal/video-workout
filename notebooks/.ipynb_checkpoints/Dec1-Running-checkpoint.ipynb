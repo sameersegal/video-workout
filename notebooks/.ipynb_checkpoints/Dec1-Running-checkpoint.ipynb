{
 "cells": [
  {
   "cell_type": "code",
   "execution_count": null,
   "metadata": {},
   "outputs": [],
   "source": [
    "import pandas as pd\n",
    "import numpy as np\n",
    "from datetime import datetime, timedelta\n",
    "import xml.etree.ElementTree as ET\n",
    "import seaborn as sns\n",
    "import matplotlib.pyplot as plt\n",
    "import matplotlib.animation as animation"
   ]
  },
  {
   "cell_type": "code",
   "execution_count": null,
   "metadata": {
    "scrolled": true
   },
   "outputs": [],
   "source": [
    "!cat ../Downloads/activity_5897233306.tcx"
   ]
  },
  {
   "cell_type": "code",
   "execution_count": null,
   "metadata": {},
   "outputs": [],
   "source": [
    "tree = ET.parse(\"../Downloads/activity_5897233306.tcx\")\n",
    "root = tree.getroot()\n",
    "root"
   ]
  },
  {
   "cell_type": "code",
   "execution_count": null,
   "metadata": {},
   "outputs": [],
   "source": [
    "ns= {\n",
    "    'garmin_v2':'http://www.garmin.com/xmlschemas/TrainingCenterDatabase/v2',\n",
    "    'ns3': 'http://www.garmin.com/xmlschemas/ActivityExtension/v2'\n",
    "}\n",
    "\n",
    "def getFirstText(root, path, ns, defvalue):\n",
    "    e = root.find(path, ns)\n",
    "    if e is not None:\n",
    "        return e[0].text\n",
    "    else:\n",
    "        return defvalue\n",
    "    \n",
    "def getText(root, path, ns, defvalue):\n",
    "    e = root.find(path, ns)\n",
    "    if e is not None:\n",
    "        return e.text\n",
    "    else:\n",
    "        return defvalue"
   ]
  },
  {
   "cell_type": "code",
   "execution_count": null,
   "metadata": {
    "scrolled": false
   },
   "outputs": [],
   "source": [
    "time = []\n",
    "latitude = []\n",
    "longitude = []\n",
    "heartratebpm = []\n",
    "cadence = []\n",
    "power = []\n",
    "speed = []\n",
    "\n",
    "for child in root.findall('.//garmin_v2:Trackpoint',ns):    \n",
    "        \n",
    "    t = h = lt = ln = c = p = s = rc = np.NaN\n",
    "           \n",
    "    t = getText(child, \"garmin_v2:Time\",ns, np.NaN)\n",
    "    h = getFirstText(child, \"garmin_v2:HeartRateBpm\",ns, np.NaN)\n",
    "        \n",
    "    lt = getText(child, \".//garmin_v2:LatitudeDegrees\",ns, np.NaN)\n",
    "    ln = getText(child, \".//garmin_v2:LongitudeDegrees\",ns, np.NaN)\n",
    "                \n",
    "    # Bike    \n",
    "    c = getText(child, \"garmin_v2:Cadence\",ns, np.NaN)\n",
    "#     if (child.find(\"garmin_v2:Extensions\",ns) is not None) and (child.find(\"garmin_v2:Extensions\",ns)[0] is not None) and (child.find(\"garmin_v2:Extensions\",ns)[0][1] is not None):\n",
    "#         p = child.find(\"garmin_v2:Extensions\",ns)[0][1].text\n",
    "        \n",
    "    # Running        \n",
    "    s = getText(child, \".//ns3:Speed\",ns, np.NaN)    \n",
    "    rc = getText(child, \".//ns3:RunCadence\",ns, np.NaN) \n",
    "        \n",
    "    time.append(t)\n",
    "    latitude.append(lt)\n",
    "    longitude.append(ln)\n",
    "    heartratebpm.append(h)\n",
    "    cadence.append(c if c is not np.NaN else rc)\n",
    "    speed.append(s)    \n",
    "    power.append(p)\n",
    "    \n",
    "df = pd.DataFrame({\n",
    "    'time':time,\n",
    "    'latitude':latitude,\n",
    "    'longitude':longitude,\n",
    "    'heartratebpm':heartratebpm,\n",
    "    'cadence':cadence,\n",
    "    'power':power,\n",
    "    'speed':speed,\n",
    "})\n",
    "df['time'] = pd.to_datetime(df['time'])\n",
    "df['time'] = df['time'] - df['time'][0]\n",
    "df['time'] = df['time'].astype(str).str.split().str[2]\n",
    "df['latitude'] = pd.to_numeric(df['latitude'])\n",
    "df['longitude'] = pd.to_numeric(df['longitude'])\n",
    "df['heartratebpm'] = pd.to_numeric(df['heartratebpm'])\n",
    "df['cadence'] = pd.to_numeric(df['cadence'])\n",
    "df['power'] = pd.to_numeric(df['power'])\n",
    "df['speed'] = pd.to_numeric(df['speed'])*60*60/1000\n",
    "\n",
    "df.loc[df['power'] == 0,'power'] = np.NAN\n",
    "# df.loc[df['speed'] == 0,'speed'] = np.NAN\n",
    "df['time'].drop_duplicates(inplace=True)\n",
    "df.set_index('time')"
   ]
  },
  {
   "cell_type": "code",
   "execution_count": null,
   "metadata": {},
   "outputs": [],
   "source": [
    "df.plot(x='time',y=['heartratebpm','cadence','power','speed'])"
   ]
  },
  {
   "cell_type": "code",
   "execution_count": null,
   "metadata": {},
   "outputs": [],
   "source": [
    "# plt.scatter(df, x='latitude',y='longitude')\n",
    "plt.scatter(df['longitude'], df['latitude'])"
   ]
  },
  {
   "cell_type": "code",
   "execution_count": null,
   "metadata": {},
   "outputs": [],
   "source": [
    "df.shape"
   ]
  },
  {
   "cell_type": "code",
   "execution_count": null,
   "metadata": {},
   "outputs": [],
   "source": [
    "fig = plt.figure(figsize=(17,10))\n",
    "plt.scatter(df['longitude'],df['latitude'])\n",
    "plt.axvline(x=(0.000525+77.499))\n",
    "plt.axhline(y=(0.00130+12.83))\n",
    "plt.axvline(x=(0.000575+77.499))\n",
    "plt.axhline(y=(0.00105+12.83))\n",
    "plt.plot(0.000525+77.499,0.00130+12.83,\"ro\")\n",
    "plt.plot(0.000575+77.499,0.00105+12.83,\"ro\")\n",
    "# plt.axline((0.000525+77.499,0.00130+12.83),(0.000575+77.499,0.00105+12.83))"
   ]
  },
  {
   "cell_type": "code",
   "execution_count": null,
   "metadata": {},
   "outputs": [],
   "source": [
    "(x1,y1) = (0.000525+77.499,0.00130+12.83)\n",
    "(x2, y2) = (0.000575+77.499,0.00105+12.83)\n",
    "(xa, ya) = (0.0005+77.499,0.00115+12.83)\n",
    "v1 = (x2-x1,y2-y1)\n",
    "v2 = (xa-x2,ya-y2)\n",
    "v1[0]*v2[1] - v1[1]*v2[0]"
   ]
  },
  {
   "cell_type": "code",
   "execution_count": null,
   "metadata": {},
   "outputs": [],
   "source": [
    "def pickPoint(x,y):\n",
    "    v2 = (x-x2,y-y2)\n",
    "    return (v1[0]*v2[1] - v1[1]*v2[0]) < 0"
   ]
  },
  {
   "cell_type": "code",
   "execution_count": null,
   "metadata": {},
   "outputs": [],
   "source": [
    "df.loc[:,'flag'] = df.apply(lambda row: pickPoint(row.longitude, row.latitude), axis=1)\n",
    "final = df[df['flag'] == True]"
   ]
  },
  {
   "cell_type": "code",
   "execution_count": null,
   "metadata": {},
   "outputs": [],
   "source": [
    "fig = plt.figure(figsize=(17,10))\n",
    "plt.xlim(np.min(df['longitude']),np.max(df['longitude']))\n",
    "plt.ylim(np.min(df['latitude']),np.max(df['latitude']))\n",
    "plt.scatter(final['longitude'],final['latitude'])"
   ]
  },
  {
   "cell_type": "code",
   "execution_count": null,
   "metadata": {},
   "outputs": [],
   "source": [
    "final.loc[:,'time'] = pd.to_datetime(final['time'])"
   ]
  },
  {
   "cell_type": "code",
   "execution_count": null,
   "metadata": {},
   "outputs": [],
   "source": [
    "final.loc[:,'delta'] = final['time'] - final.shift()['time']"
   ]
  },
  {
   "cell_type": "code",
   "execution_count": null,
   "metadata": {},
   "outputs": [],
   "source": [
    "final.loc[~(final['delta'] == timedelta(seconds=1)),'start'] = 1"
   ]
  },
  {
   "cell_type": "code",
   "execution_count": null,
   "metadata": {},
   "outputs": [],
   "source": [
    "final.drop(columns=['delta'],inplace=True)"
   ]
  },
  {
   "cell_type": "code",
   "execution_count": null,
   "metadata": {},
   "outputs": [],
   "source": [
    "final.loc[:,'end'] = final.shift(periods=-1)['start']"
   ]
  },
  {
   "cell_type": "code",
   "execution_count": null,
   "metadata": {},
   "outputs": [],
   "source": [
    "final[(final['start'] == 1) | (final['end'] == 1)]"
   ]
  },
  {
   "cell_type": "code",
   "execution_count": null,
   "metadata": {},
   "outputs": [],
   "source": [
    "left = final[final['start']==1]\n",
    "right = final[final['end']==1][['time']]\n",
    "\n",
    "left.reset_index(inplace=True)\n",
    "right.reset_index(inplace=True)\n",
    "\n",
    "left.drop(columns=['index'],inplace=True)\n",
    "right.drop(columns=['index'],inplace=True)\n",
    "\n",
    "left.rename(columns={'time':'start_time'},inplace=True)\n",
    "right.rename(columns={'time':'end_time'},inplace=True)"
   ]
  },
  {
   "cell_type": "code",
   "execution_count": null,
   "metadata": {},
   "outputs": [],
   "source": [
    "final = left.join(right)\n",
    "last_row = final.shape[0]-1\n",
    "final['end_time'][last_row] = pd.to_datetime(np.max(df['time']))\n",
    "final.drop(columns=['start','end'],inplace=True)\n",
    "final"
   ]
  },
  {
   "cell_type": "code",
   "execution_count": null,
   "metadata": {},
   "outputs": [],
   "source": [
    "tsdf = final[['start_time','end_time']]\n",
    "tsdf"
   ]
  },
  {
   "cell_type": "code",
   "execution_count": null,
   "metadata": {},
   "outputs": [],
   "source": [
    "datetime.fromisoformat('2020-12-01T02:22:31.000') + timedelta(hours=5,minutes=30)"
   ]
  },
  {
   "cell_type": "code",
   "execution_count": null,
   "metadata": {},
   "outputs": [],
   "source": [
    "#tsdf = tsdf + timedelta(seconds=6.5)\n",
    "tsdf"
   ]
  },
  {
   "cell_type": "code",
   "execution_count": null,
   "metadata": {},
   "outputs": [],
   "source": [
    "tsdf.loc[:,'start_time'] = tsdf['start_time'] - tsdf['start_time'].apply(lambda x: timedelta(microseconds=x.microsecond))\n",
    "tsdf.loc[:,'end_time'] = tsdf['end_time'] + tsdf['end_time'].apply(lambda x: timedelta(microseconds=(1000000 - x.microsecond)))"
   ]
  },
  {
   "cell_type": "code",
   "execution_count": null,
   "metadata": {},
   "outputs": [],
   "source": [
    "now = datetime.now()\n",
    "tsdf = tsdf - datetime(year=now.year,month=now.month, day=now.day)\n",
    "tsdf['start_time'] = tsdf['start_time'].astype(str).str.split().str[2] + \":00\"\n",
    "tsdf['end_time'] = tsdf['end_time'].astype(str).str.split().str[2] + \":00\"\n",
    "tsdf"
   ]
  },
  {
   "cell_type": "code",
   "execution_count": null,
   "metadata": {},
   "outputs": [],
   "source": [
    "tsdf.columns = ['StartTimecode','EndTimecode']\n",
    "tsdf"
   ]
  },
  {
   "cell_type": "code",
   "execution_count": null,
   "metadata": {},
   "outputs": [],
   "source": [
    "tsdf.to_json(orient=\"records\")"
   ]
  },
  {
   "cell_type": "code",
   "execution_count": null,
   "metadata": {},
   "outputs": [],
   "source": [
    "# # fig = plt.figure(figsize=(3,17))\n",
    "\n",
    "# a1 = df.plot(x='time',y=['heartratebpm','cadence','speed'], figsize=(17,3))\n",
    "# l = a1.axvline(x=1000,color='r')\n",
    "# fig = a1.figure\n",
    "\n",
    "# def animate(i):\n",
    "#     l.set_xdata(x=i)\n",
    "#     return l,\n",
    "\n",
    "# myAnimation = animation.FuncAnimation(fig, animate, frames=100, save_count=100, \\\n",
    "#                                       interval=1000, blit=True, repeat=False)\n",
    "\n",
    "# myAnimation.save('graph.mp4', fps=1, extra_args=['-vcodec', 'libx264'])\n",
    "\n"
   ]
  },
  {
   "cell_type": "code",
   "execution_count": null,
   "metadata": {},
   "outputs": [],
   "source": [
    "# https://stackoverflow.com/questions/11640243/pandas-plot-multiple-y-axes\n",
    "def plot_multi(data, cols=None, spacing=.1, **kwargs):\n",
    "\n",
    "    from pandas import plotting\n",
    "\n",
    "    # Get default color style from pandas - can be changed to any other color list\n",
    "    if cols is None: cols = data.columns\n",
    "    if len(cols) == 0: return\n",
    "    colors = getattr(getattr(plotting, '_matplotlib').style, '_get_standard_colors')(num_colors=len(cols))\n",
    "\n",
    "    # First axis\n",
    "    ax = data.loc[:, cols[0]].plot(label=cols[0], color=colors[0], **kwargs)\n",
    "    ax.set_ylabel(ylabel=cols[0])\n",
    "    lines, labels = ax.get_legend_handles_labels()\n",
    "\n",
    "    for n in range(1, len(cols)):\n",
    "        # Multiple y-axes\n",
    "        ax_new = ax.twinx()\n",
    "        ax_new.spines['right'].set_position(('axes', 1 + spacing * (n - 1)))\n",
    "        data.loc[:, cols[n]].plot(ax=ax_new, label=cols[n], color=colors[n % len(colors)], **kwargs)\n",
    "        ax_new.set_ylabel(ylabel=cols[n])\n",
    "\n",
    "        # Proper legend position\n",
    "        line, label = ax_new.get_legend_handles_labels()\n",
    "        lines += line\n",
    "        labels += label\n",
    "\n",
    "    ax.legend(lines, labels, loc=0)\n",
    "    return ax"
   ]
  },
  {
   "cell_type": "code",
   "execution_count": null,
   "metadata": {},
   "outputs": [],
   "source": [
    "plot_multi(df,['heartratebpm','cadence'],figsize=(17, 3))"
   ]
  },
  {
   "cell_type": "code",
   "execution_count": null,
   "metadata": {},
   "outputs": [],
   "source": [
    "# fig = plt.figure(figsize=(3,17))\n",
    "\n",
    "ax = plot_multi(df,['heartratebpm','cadence'],figsize=(1280/72, 3))\n",
    "l = ax.axvline(x=1000,color='r',dashes=(5,2,1,2))\n",
    "fig = ax.figure\n",
    "\n",
    "def animate(i):\n",
    "    l.set_xdata(x=i)\n",
    "    return l,\n",
    "\n",
    "myAnimation = animation.FuncAnimation(fig, animate, frames=len(df), save_count=len(df), \\\n",
    "                                      interval=1000, blit=True, repeat=False)\n",
    "\n",
    "myAnimation.save('graph2.mp4', fps=1, extra_args=['-vcodec', 'libx264'])"
   ]
  },
  {
   "cell_type": "code",
   "execution_count": null,
   "metadata": {},
   "outputs": [],
   "source": [
    "# ffmpeg -hide_banner -ss 00:00:01.500 -i front.mp4 -i back.mp4 -filter_complex hstack=inputs=2 final.mp4"
   ]
  }
 ],
 "metadata": {
  "kernelspec": {
   "display_name": "Python 3",
   "language": "python",
   "name": "python3"
  },
  "language_info": {
   "codemirror_mode": {
    "name": "ipython",
    "version": 3
   },
   "file_extension": ".py",
   "mimetype": "text/x-python",
   "name": "python",
   "nbconvert_exporter": "python",
   "pygments_lexer": "ipython3",
   "version": "3.8.6"
  }
 },
 "nbformat": 4,
 "nbformat_minor": 4
}
